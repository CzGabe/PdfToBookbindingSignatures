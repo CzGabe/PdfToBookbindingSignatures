{
 "cells": [
  {
   "cell_type": "code",
   "execution_count": null,
   "id": "16a2344d-48ef-47ef-87e1-3394837f2cb8",
   "metadata": {},
   "outputs": [],
   "source": [
    "import sys\n",
    "sys.path.append('P:\\\\python\\\\_functions\\\\')\n",
    "from toImportDevFunctions import *"
   ]
  },
  {
   "cell_type": "code",
   "execution_count": null,
   "id": "37cf8230-82ba-406b-8af3-db4a14c38108",
   "metadata": {},
   "outputs": [],
   "source": [
    "import pypdf\n",
    "from pypdf import PdfReader, PdfWriter, PdfMerger, PageObject, Transformation, PaperSize\n",
    "pypdf.__version__"
   ]
  },
  {
   "cell_type": "code",
   "execution_count": null,
   "id": "2b91d270-bfd4-4b3f-9cc6-97e44ee41a1c",
   "metadata": {},
   "outputs": [],
   "source": [
    "#Setup inputs\n",
    "# pdf to work with\n",
    "fPDF = 'test.pdf'\n",
    "print(os.path.exists(fPDF))\n",
    "\n",
    "#mid margin shift (for binding)\n",
    "margin = 20 \n",
    "\n",
    "#number of papers for signature\n",
    "sigThick = 2\n",
    "\n",
    "#blank start and blank end pages (extend number of pgaes so (pdfPgNum % (sigThick*4)) == 0 --next cell helps)\n",
    "blankStart = 0\n",
    "blankEnd = 0"
   ]
  },
  {
   "cell_type": "code",
   "execution_count": null,
   "id": "e3490ec5-2a7b-4908-b461-31453ae2d47e",
   "metadata": {},
   "outputs": [],
   "source": [
    "reader = PdfReader(fPDF)\n",
    "\n",
    "pdfPgNum = len(reader.pages)\n",
    "pgTotal = (blankStart + blankEnd + pdfPgNum)\n",
    "sheetsNeeded = int(np.ceil((pdfPgNum / 4)))\n",
    "\n",
    "if (pgTotal % (4*sigThick)!=0):\n",
    "    print('Fixit:', pgTotal, 'to add:', (4*sigThick)-(pgTotal % (4*sigThick)))\n",
    "else:\n",
    "    print('OK:', pgTotal , sheetsNeeded)"
   ]
  },
  {
   "cell_type": "code",
   "execution_count": null,
   "id": "0bc07495-b280-4fc0-a138-fe7697ab6f61",
   "metadata": {},
   "outputs": [],
   "source": [
    "reader = PdfReader(fPDF)\n",
    "\n",
    "if (blankStart!=0)|(blankEnd!=0):\n",
    "    print('Save and reload')\n",
    "    writer = PdfWriter()\n",
    "\n",
    "    for i in range(blankStart):\n",
    "        writer.add_blank_page(width=PaperSize.A4.width, height=PaperSize.A4.height)\n",
    "    \n",
    "    for i in range(pdfPgNum):\n",
    "        writer.add_page(reader.pages[i])\n",
    "    \n",
    "    for i in range(blankEnd):\n",
    "        writer.add_blank_page()\n",
    "    \n",
    "    with open('tmp.pdf', \"wb\") as fp:\n",
    "        writer.write(fp)\n",
    "\n",
    "    reader = PdfReader('tmp.pdf')\n",
    "    pdfPgNum = len(reader.pages)\n",
    "\n",
    "pdfPgNum"
   ]
  },
  {
   "cell_type": "code",
   "execution_count": null,
   "id": "b52ddbff-f463-4b65-8832-11748ec2f309",
   "metadata": {},
   "outputs": [],
   "source": [
    "#create list for rearrange\n",
    "lPgs = list(range(pdfPgNum))\n",
    "lPgsReOrd = []\n",
    "for i in range(len(lPgs)//(sigThick*4)):\n",
    "    iSt = i*sigThick*4\n",
    "    iEnd= iSt + sigThick*4\n",
    "\n",
    "    lSigSt = lPgs[iSt:iEnd]\n",
    "    lSigEnd = []\n",
    "    for i in range(sigThick):\n",
    "        lSigEnd.append(lSigSt.pop(-1))\n",
    "        lSigEnd.append(lSigSt.pop(0))\n",
    "        lSigEnd.append(lSigSt.pop(0))\n",
    "        lSigEnd.append(lSigSt.pop(-1))\n",
    "\n",
    "    lPgsReOrd = lPgsReOrd+lSigEnd\n",
    "    print(lSigEnd)\n",
    "    \n",
    "#lPgsReOrd"
   ]
  },
  {
   "cell_type": "code",
   "execution_count": null,
   "id": "4b254846-942f-4cfb-81a9-6b143553d53a",
   "metadata": {},
   "outputs": [],
   "source": [
    "#rearrange pages\n",
    "writer = PdfWriter()\n",
    "\n",
    "for i in lPgsReOrd:\n",
    "    page = reader.pages[i]\n",
    "    writer.add_page(page)\n",
    "\n",
    "with open(fPDF[:-4]+'_reord.pdf', \"wb\") as fp:\n",
    "        writer.write(fp)"
   ]
  },
  {
   "cell_type": "code",
   "execution_count": null,
   "id": "113f3c19-b526-4ad2-a490-32344b311c2b",
   "metadata": {},
   "outputs": [],
   "source": [
    "#create 2 pager Signatures with additional middle margin\n",
    "writer = PdfWriter()\n",
    "for iter in range(0, len(reader.pages)-1, 2):\n",
    "    print(iter)\n",
    "\n",
    "    destpage = writer.add_blank_page(width=PaperSize.A3.height, height=PaperSize.A3.width)\n",
    "    \n",
    "    lhs = reader.pages[iter]\n",
    "    rhs = reader.pages[iter+1]\n",
    "\n",
    "    destpage.merge_transformed_page(lhs, Transformation().translate(-1*margin,0,),)\n",
    "    destpage.merge_transformed_page(rhs, Transformation().translate(margin+PaperSize.A4.width,0,),)\n",
    "\n",
    "\n",
    "with open(fPDF[:-4]+'_toPrint_py.pdf', \"wb\") as fp:\n",
    "    writer.write(fp)"
   ]
  },
  {
   "cell_type": "code",
   "execution_count": null,
   "id": "27133366-874a-499b-a99b-b33d87f8c0fe",
   "metadata": {},
   "outputs": [],
   "source": [
    "#reader = PdfReader(fPDF[:-4]+'_2up_py.pdf')\n",
    "#print(fPDF[:-4]+'_2up_py.pdf')\n",
    "#box = reader.pages[0].mediabox\n",
    "#print(box)\n",
    "#print(box.width)\n",
    "#print(box.height)"
   ]
  }
 ],
 "metadata": {
  "kernelspec": {
   "display_name": "Python 3 (ipykernel)",
   "language": "python",
   "name": "python3"
  },
  "language_info": {
   "codemirror_mode": {
    "name": "ipython",
    "version": 3
   },
   "file_extension": ".py",
   "mimetype": "text/x-python",
   "name": "python",
   "nbconvert_exporter": "python",
   "pygments_lexer": "ipython3",
   "version": "3.12.1"
  }
 },
 "nbformat": 4,
 "nbformat_minor": 5
}
